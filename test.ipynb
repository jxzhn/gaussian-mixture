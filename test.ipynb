{
 "cells": [
  {
   "cell_type": "code",
   "execution_count": 1,
   "metadata": {},
   "outputs": [
    {
     "name": "stdout",
     "output_type": "stream",
     "text": [
      "(60000, 784)\n"
     ]
    },
    {
     "data": {
      "text/plain": [
       "0"
      ]
     },
     "execution_count": 1,
     "metadata": {},
     "output_type": "execute_result"
    }
   ],
   "source": [
    "import ctypes\n",
    "import cupy\n",
    "\n",
    "gmm = ctypes.cdll.LoadLibrary('./build/libgmm.so')\n",
    "# 设置参数类型\n",
    "gmm.gmmFit.argtypes = [\n",
    "    ctypes.POINTER(ctypes.c_double),\n",
    "    ctypes.POINTER(ctypes.c_double),\n",
    "    ctypes.POINTER(ctypes.c_double),\n",
    "    ctypes.POINTER(ctypes.c_double),\n",
    "    ctypes.c_int,\n",
    "    ctypes.c_int,\n",
    "    ctypes.c_int,\n",
    "    ctypes.c_double,\n",
    "    ctypes.c_int\n",
    "]\n",
    "\n",
    "# # 生成 2 个三维高斯分布的数据\n",
    "# dist1_mean = cupy.array([-1, 1, -1], dtype=cupy.float64)\n",
    "# dist1_covar = cupy.array(\n",
    "#     [[ 3, -2,  0],\n",
    "#     [-2,  2,  0],\n",
    "#     [ 0,  0,  2]]\n",
    "# , dtype=cupy.float64)\n",
    "# dist1_data = cupy.random.multivariate_normal(dist1_mean, dist1_covar, size=7000)\n",
    "\n",
    "# dist2_mean = cupy.array([2, -1.5, 3], dtype=cupy.float64)\n",
    "# dist2_covar = cupy.array(\n",
    "#     [[ 3,  1, -5],\n",
    "#     [ 1,  1, -1],\n",
    "#     [-5, -1, 10]]\n",
    "# , dtype=cupy.float64)\n",
    "# dist2_data = cupy.random.multivariate_normal(dist2_mean, dist2_covar, size=3000)\n",
    "\n",
    "# # 权重是 7:3\n",
    "# data = cupy.concatenate([dist1_data, dist2_data])\n",
    "# cupy.random.shuffle(data)\n",
    "\n",
    "# weights = cupy.empty(2, dtype=cupy.float64)\n",
    "# means = cupy.empty((2, 3), dtype=cupy.float64)\n",
    "# covariances = cupy.empty((2, 3, 3), dtype=cupy.float64)\n",
    "\n",
    "# gmm.gmmFit(\n",
    "#     ctypes.cast(data.data.ptr, ctypes.POINTER(ctypes.c_double)),\n",
    "#     ctypes.cast(weights.data.ptr, ctypes.POINTER(ctypes.c_double)),\n",
    "#     ctypes.cast(means.data.ptr, ctypes.POINTER(ctypes.c_double)),\n",
    "#     ctypes.cast(covariances.data.ptr, ctypes.POINTER(ctypes.c_double)),\n",
    "#     data.shape[0],\n",
    "#     data.shape[1],\n",
    "#     2,\n",
    "#     1e-6,\n",
    "#     300\n",
    "# )\n",
    "\n",
    "# print('weights:\\n', weights)\n",
    "# print('means:\\n', means)\n",
    "# print('covariances:\\n', covariances)\n",
    "\n",
    "data = cupy.load('data/train-images.npy') / 255\n",
    "cupy.random.shuffle(data)\n",
    "print(data.shape)\n",
    "\n",
    "weights = cupy.empty(10, dtype=cupy.float64)\n",
    "means = cupy.empty((10, 784), dtype=cupy.float64)\n",
    "covariances = cupy.empty((10, 784, 784), dtype=cupy.float64)\n",
    "\n",
    "gmm.gmmFit(\n",
    "    ctypes.cast(data.data.ptr, ctypes.POINTER(ctypes.c_double)),\n",
    "    ctypes.cast(weights.data.ptr, ctypes.POINTER(ctypes.c_double)),\n",
    "    ctypes.cast(means.data.ptr, ctypes.POINTER(ctypes.c_double)),\n",
    "    ctypes.cast(covariances.data.ptr, ctypes.POINTER(ctypes.c_double)),\n",
    "    data.shape[0],\n",
    "    data.shape[1],\n",
    "    10,\n",
    "    1e-6,\n",
    "    300\n",
    ")"
   ]
  },
  {
   "cell_type": "code",
   "execution_count": 11,
   "metadata": {},
   "outputs": [
    {
     "name": "stdout",
     "output_type": "stream",
     "text": [
      "\n"
     ]
    }
   ],
   "source": [
    "means = means.get() # turn cupy into numpy"
   ]
  },
  {
   "cell_type": "code",
   "execution_count": 12,
   "metadata": {},
   "outputs": [
    {
     "data": {
      "image/png": "[encoded data removed]",
      "text/plain": [
       "<Figure size 432x288 with 10 Axes>"
      ]
     },
     "metadata": {},
     "output_type": "display_data"
    }
   ],
   "source": [
    "import matplotlib.pyplot as plt\n",
    " \n",
    "fig, ax = plt.subplots(nrows=2, ncols=5, sharex='all', sharey='all')\n",
    "ax = ax.flatten()\n",
    "for i in range(10):\n",
    "    img = means[i].reshape(28, 28)\n",
    "    ax[i].imshow(img, cmap='Greys', interpolation='nearest')\n",
    "ax[0].set_xticks([])\n",
    "ax[0].set_yticks([])\n",
    "plt.tight_layout()\n",
    "plt.show()"
   ]
  }
 ],
 "metadata": {
  "kernelspec": {
   "display_name": "Python 3",
   "language": "python",
   "name": "python3"
  },
  "language_info": {
   "codemirror_mode": {
    "name": "ipython",
    "version": 3
   },
   "file_extension": ".py",
   "mimetype": "text/x-python",
   "name": "python",
   "nbconvert_exporter": "python",
   "pygments_lexer": "ipython3",
   "version": "3.7.10"
  }
 },
 "nbformat": 4,
 "nbformat_minor": 2
}
